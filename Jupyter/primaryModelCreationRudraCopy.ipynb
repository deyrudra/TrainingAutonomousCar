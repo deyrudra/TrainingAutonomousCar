{
 "cells": [
  {
   "cell_type": "code",
   "execution_count": 1,
   "id": "9d423849",
   "metadata": {},
   "outputs": [],
   "source": [
    "import torch\n",
    "import torch.nn as nn\n",
    "import torch.nn.functional as F\n",
    "from torchvision import models, transforms\n",
    "from torch.utils.data import Dataset, DataLoader\n",
    "import numpy as np\n",
    "from PIL import Image"
   ]
  },
  {
   "cell_type": "code",
   "execution_count": 2,
   "id": "195ab957",
   "metadata": {},
   "outputs": [],
   "source": [
    "# ======= Dataset =======\n",
    "class CarlaDataset(Dataset):\n",
    "    def __init__(self, images_path, angles_path, signals_path, transform=None):\n",
    "        self.images = np.load(images_path)  # (N, 3, 224, 224)\n",
    "        self.angles = np.load(angles_path).astype(np.float32)  # (N,)\n",
    "        self.signals = np.load(signals_path).astype(np.float32)  # (N,)\n",
    "        self.transform = transform\n",
    "\n",
    "    def __len__(self):\n",
    "        return len(self.images)\n",
    "\n",
    "    def __getitem__(self, idx):\n",
    "        img = self.images[idx]  # Already (3, 224, 224)\n",
    "        angle = self.angles[idx]\n",
    "        signal = self.signals[idx]\n",
    "\n",
    "        if self.transform:\n",
    "            img = self.transform(img)\n",
    "\n",
    "        return torch.tensor(img, dtype=torch.float32), torch.tensor(signal).unsqueeze(0), torch.tensor(angle)\n"
   ]
  },
  {
   "cell_type": "code",
   "execution_count": null,
   "id": "eb2d7354",
   "metadata": {},
   "outputs": [],
   "source": [
    "# ======= Model =======\n",
    "class SteeringModel(nn.Module):\n",
    "    def __init__(self):\n",
    "        super(SteeringModel, self).__init__()\n",
    "        # Load ResNet18 backbone without final FC\n",
    "        resnet = models.resnet18(pretrained=True)\n",
    "        self.cnn_backbone = nn.Sequential(*list(resnet.children())[:-1])  # Output: (B, 512, 1, 1)\n",
    "        \n",
    "        self.signal_fc = nn.Sequential(\n",
    "            nn.Linear(1, 32),\n",
    "            nn.ReLU()\n",
    "        )\n",
    "\n",
    "        self.combined_fc = nn.Sequential(\n",
    "            nn.Linear(512 + 32, 128),\n",
    "            nn.ReLU(),\n",
    "            nn.Linear(128, 1)\n",
    "        )\n",
    "\n",
    "    def forward(self, image, signal):\n",
    "        x = self.cnn_backbone(image)  # (B, 512, 1, 1)\n",
    "        x = x.view(x.size(0), -1)     # (B, 512)\n",
    "\n",
    "        s = self.signal_fc(signal)   # (B, 32)\n",
    "\n",
    "        combined = torch.cat([x, s], dim=1)  # (B, 544)\n",
    "        out = self.combined_fc(combined)     # (B, 1)\n",
    "        return out.squeeze(1)  # (B,)"
   ]
  },
  {
   "cell_type": "code",
   "execution_count": null,
   "id": "477ee726",
   "metadata": {},
   "outputs": [],
   "source": [
    "# ======= Transforms =======\n",
    "transform = transforms.Compose([\n",
    "    transforms.ToTensor(),  # if images aren't tensors already\n",
    "    transforms.Normalize(mean=[0.485, 0.456, 0.406],  # ResNet ImageNet means\n",
    "                         std=[0.229, 0.224, 0.225])\n",
    "])"
   ]
  },
  {
   "cell_type": "code",
   "execution_count": null,
   "id": "5cea815d",
   "metadata": {},
   "outputs": [],
   "source": [
    "# ======= Dataloader =======\n",
    "dataset = CarlaDataset('images.npy', 'angles.npy', 'turn_signals.npy')\n",
    "dataloader = DataLoader(dataset, batch_size=32, shuffle=True)"
   ]
  },
  {
   "cell_type": "code",
   "execution_count": null,
   "id": "f3c38c34",
   "metadata": {},
   "outputs": [],
   "source": [
    "# ======= Training Setup =======\n",
    "device = torch.device('cuda' if torch.cuda.is_available() else 'cpu')\n",
    "model = SteeringModel().to(device)\n",
    "optimizer = torch.optim.Adam(model.parameters(), lr=1e-4)\n",
    "criterion = nn.MSELoss()"
   ]
  },
  {
   "cell_type": "code",
   "execution_count": null,
   "id": "a9619d09",
   "metadata": {},
   "outputs": [],
   "source": [
    "# ======= Training Loop =======\n",
    "for epoch in range(10):\n",
    "    model.train()\n",
    "    total_loss = 0\n",
    "    for images, signals, angles in dataloader:\n",
    "        images, signals, angles = images.to(device), signals.to(device), angles.to(device)\n",
    "\n",
    "        optimizer.zero_grad()\n",
    "        preds = model(images, signals)\n",
    "        loss = criterion(preds, angles)\n",
    "        loss.backward()\n",
    "        optimizer.step()\n",
    "\n",
    "        total_loss += loss.item()\n",
    "\n",
    "    print(f\"Epoch {epoch+1}, Loss: {total_loss / len(dataloader):.4f}\")"
   ]
  }
 ],
 "metadata": {
  "kernelspec": {
   "display_name": "ACS",
   "language": "python",
   "name": "python3"
  },
  "language_info": {
   "codemirror_mode": {
    "name": "ipython",
    "version": 3
   },
   "file_extension": ".py",
   "mimetype": "text/x-python",
   "name": "python",
   "nbconvert_exporter": "python",
   "pygments_lexer": "ipython3",
   "version": "3.10.18"
  }
 },
 "nbformat": 4,
 "nbformat_minor": 5
}
