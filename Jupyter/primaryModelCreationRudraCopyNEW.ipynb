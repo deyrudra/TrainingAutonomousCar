{
 "cells": [
  {
   "cell_type": "code",
   "execution_count": 1,
   "id": "d57981df",
   "metadata": {},
   "outputs": [],
   "source": [
    "import torch\n",
    "import torch.nn as nn\n",
    "from torchvision import models, transforms\n",
    "from torch.utils.data import Dataset, DataLoader\n",
    "import numpy as np\n",
    "from sklearn.model_selection import train_test_split\n",
    "import matplotlib.pyplot as plt"
   ]
  },
  {
   "cell_type": "code",
   "execution_count": 2,
   "id": "96d28a38",
   "metadata": {},
   "outputs": [],
   "source": [
    "# ================== Dataset ==================\n",
    "class CarlaDataset(Dataset):\n",
    "    def __init__(self, images, angles, signals, transform=None):\n",
    "        self.images = images\n",
    "        self.angles = angles\n",
    "        self.signals = signals\n",
    "        self.transform = transform\n",
    "\n",
    "    def __len__(self):\n",
    "        return len(self.images)\n",
    "\n",
    "    def __getitem__(self, idx):\n",
    "        img = self.images[idx]\n",
    "        angle = self.angles[idx]\n",
    "        signal = self.signals[idx]\n",
    "\n",
    "        if self.transform:\n",
    "            img = self.transform(img)\n",
    "\n",
    "        return torch.tensor(img, dtype=torch.float32), torch.tensor(signal).unsqueeze(0), torch.tensor(angle, dtype=torch.float32)"
   ]
  },
  {
   "cell_type": "code",
   "execution_count": 3,
   "id": "2aa2be64",
   "metadata": {},
   "outputs": [],
   "source": [
    "# ================== Model ==================\n",
    "class SteeringModel(nn.Module):\n",
    "    def __init__(self):\n",
    "        super(SteeringModel, self).__init__()\n",
    "        resnet = models.resnet18(pretrained=True)\n",
    "        for param in resnet.parameters():\n",
    "            param.requires_grad = False\n",
    "        for param in resnet.layer4.parameters():\n",
    "            param.requires_grad = True\n",
    "\n",
    "        self.cnn_backbone = nn.Sequential(*list(resnet.children())[:-1])  # (B, 512, 1, 1)\n",
    "\n",
    "        self.signal_fc = nn.Sequential(\n",
    "            nn.Linear(1, 32),\n",
    "            nn.ReLU()\n",
    "        )\n",
    "\n",
    "        self.fc_left = nn.Sequential(\n",
    "            nn.Linear(512 + 32, 128),\n",
    "            nn.ReLU(),\n",
    "            nn.Linear(128, 1)\n",
    "        )\n",
    "        self.fc_right = nn.Sequential(\n",
    "            nn.Linear(512 + 32, 128),\n",
    "            nn.ReLU(),\n",
    "            nn.Linear(128, 1)\n",
    "        )\n",
    "        self.fc_straight = nn.Sequential(\n",
    "            nn.Linear(512 + 32, 128),\n",
    "            nn.ReLU(),\n",
    "            nn.Linear(128, 1)\n",
    "        )\n",
    "\n",
    "    def forward(self, image, signal):\n",
    "        x = self.cnn_backbone(image)\n",
    "        x = x.view(x.size(0), -1)\n",
    "        s = self.signal_fc(signal)\n",
    "        combined = torch.cat([x, s], dim=1)\n",
    "\n",
    "        preds = torch.zeros(image.size(0), 1, device=image.device)\n",
    "\n",
    "        left_mask = (signal.squeeze(1) == -1)\n",
    "        right_mask = (signal.squeeze(1) == 1)\n",
    "        straight_mask = (signal.squeeze(1) == 0)\n",
    "\n",
    "        if left_mask.any():\n",
    "            preds[left_mask] = self.fc_left(combined[left_mask])\n",
    "        if right_mask.any():\n",
    "            preds[right_mask] = self.fc_right(combined[right_mask])\n",
    "        if straight_mask.any():\n",
    "            preds[straight_mask] = self.fc_straight(combined[straight_mask])\n",
    "\n",
    "        return preds.squeeze(1)"
   ]
  },
  {
   "cell_type": "code",
   "execution_count": 4,
   "id": "868fb7f2",
   "metadata": {},
   "outputs": [],
   "source": [
    "# ================== Loss ==================\n",
    "class DirectionalWeightedMSE(nn.Module):\n",
    "    def __init__(self, left_weight=2.0, right_weight=2.0, straight_weight=0.8):\n",
    "        super().__init__()\n",
    "        self.left_weight = left_weight\n",
    "        self.right_weight = right_weight\n",
    "        self.straight_weight = straight_weight\n",
    "\n",
    "    def forward(self, preds, targets, signals):\n",
    "        weights = torch.ones_like(targets)\n",
    "        weights[signals.squeeze() == -1] = self.left_weight\n",
    "        weights[signals.squeeze() == 1] = self.right_weight\n",
    "        weights[signals.squeeze() == 0] = self.straight_weight\n",
    "        loss = weights * (preds - targets) ** 2\n",
    "        return loss.mean()"
   ]
  },
  {
   "cell_type": "code",
   "execution_count": 5,
   "id": "e0bb5082",
   "metadata": {},
   "outputs": [],
   "source": [
    "# ================== Load Data ==================\n",
    "images = np.load('../output/std_images.npy')         # (N, 3, 224, 224)\n",
    "angles = np.load('../output/std_angles.npy').astype(np.float32)\n",
    "signals = np.load('../output/std_turn_signals.npy').astype(np.float32)\n",
    "\n",
    "train_idx, val_idx = train_test_split(np.arange(len(images)), test_size=0.2, random_state=42)\n",
    "\n",
    "train_data = (images[train_idx], angles[train_idx], signals[train_idx])\n",
    "val_data = (images[val_idx], angles[val_idx], signals[val_idx])"
   ]
  },
  {
   "cell_type": "code",
   "execution_count": 6,
   "id": "b261bffe",
   "metadata": {},
   "outputs": [],
   "source": [
    "# ================== Transforms ==================\n",
    "transform = transforms.Compose([\n",
    "    transforms.ToTensor(),\n",
    "    transforms.Normalize(mean=[0.485, 0.456, 0.406],\n",
    "                         std=[0.229, 0.224, 0.225])\n",
    "])"
   ]
  },
  {
   "cell_type": "code",
   "execution_count": 7,
   "id": "73760781",
   "metadata": {},
   "outputs": [],
   "source": [
    "# ================== Dataloaders ==================\n",
    "train_dataset = CarlaDataset(*train_data, transform=transform)\n",
    "val_dataset = CarlaDataset(*val_data, transform=transform)\n",
    "\n",
    "train_loader = DataLoader(train_dataset, batch_size=32, shuffle=True)\n",
    "val_loader = DataLoader(val_dataset, batch_size=32, shuffle=False)"
   ]
  },
  {
   "cell_type": "code",
   "execution_count": 8,
   "id": "9d0b8742",
   "metadata": {},
   "outputs": [
    {
     "name": "stderr",
     "output_type": "stream",
     "text": [
      "c:\\Users\\deyru\\anaconda3\\envs\\ACS\\lib\\site-packages\\torchvision\\models\\_utils.py:208: UserWarning: The parameter 'pretrained' is deprecated since 0.13 and may be removed in the future, please use 'weights' instead.\n",
      "  warnings.warn(\n",
      "c:\\Users\\deyru\\anaconda3\\envs\\ACS\\lib\\site-packages\\torchvision\\models\\_utils.py:223: UserWarning: Arguments other than a weight enum or `None` for 'weights' are deprecated since 0.13 and may be removed in the future. The current behavior is equivalent to passing `weights=ResNet18_Weights.IMAGENET1K_V1`. You can also use `weights=ResNet18_Weights.DEFAULT` to get the most up-to-date weights.\n",
      "  warnings.warn(msg)\n"
     ]
    }
   ],
   "source": [
    "# ================== Training Setup ==================\n",
    "device = torch.device('cuda' if torch.cuda.is_available() else 'cpu')\n",
    "model = SteeringModel().to(device)\n",
    "optimizer = torch.optim.Adam(model.parameters(), lr=1e-4)\n",
    "criterion = DirectionalWeightedMSE()\n",
    "\n",
    "train_losses = []\n",
    "val_losses = []\n",
    "best_val_loss = float('inf')"
   ]
  },
  {
   "cell_type": "code",
   "execution_count": null,
   "id": "a01d8793",
   "metadata": {},
   "outputs": [
    {
     "name": "stderr",
     "output_type": "stream",
     "text": [
      "C:\\Users\\deyru\\AppData\\Local\\Temp\\ipykernel_7452\\3248010433.py:20: UserWarning: To copy construct from a tensor, it is recommended to use sourceTensor.detach().clone() or sourceTensor.detach().clone().requires_grad_(True), rather than torch.tensor(sourceTensor).\n",
      "  return torch.tensor(img, dtype=torch.float32), torch.tensor(signal).unsqueeze(0), torch.tensor(angle, dtype=torch.float32)\n"
     ]
    }
   ],
   "source": [
    "# ================== Training Loop ==================\n",
    "for epoch in range(10):\n",
    "    model.train()\n",
    "    total_train_loss = 0\n",
    "    for images, signals, angles in train_loader:\n",
    "        images, signals, angles = images.to(device), signals.to(device), angles.to(device)\n",
    "\n",
    "        optimizer.zero_grad()\n",
    "        preds = model(images, signals)\n",
    "        loss = criterion(preds, angles, signals)\n",
    "        loss.backward()\n",
    "        optimizer.step()\n",
    "        total_train_loss += loss.item()\n",
    "\n",
    "    avg_train_loss = total_train_loss / len(train_loader)\n",
    "    train_losses.append(avg_train_loss)\n",
    "\n",
    "    model.eval()\n",
    "    total_val_loss = 0\n",
    "    with torch.no_grad():\n",
    "        for images, signals, angles in val_loader:\n",
    "            images, signals, angles = images.to(device), signals.to(device), angles.to(device)\n",
    "            preds = model(images, signals)\n",
    "            loss = criterion(preds, angles, signals)\n",
    "            total_val_loss += loss.item()\n",
    "\n",
    "    avg_val_loss = total_val_loss / len(val_loader)\n",
    "    val_losses.append(avg_val_loss)\n",
    "\n",
    "    print(f\"Epoch {epoch+1} | Train Loss: {avg_train_loss:.4f} | Val Loss: {avg_val_loss:.4f}\")\n",
    "\n",
    "    if avg_val_loss < best_val_loss:\n",
    "        best_val_loss = avg_val_loss\n",
    "        torch.save(model.state_dict(), \"../models/RDModel_SplitHeads.pth\")"
   ]
  },
  {
   "cell_type": "code",
   "execution_count": null,
   "id": "df6918da",
   "metadata": {},
   "outputs": [],
   "source": [
    "# ================== Plot Loss ==================\n",
    "plt.figure(figsize=(8,5))\n",
    "plt.plot(train_losses, label='Train Loss')\n",
    "plt.plot(val_losses, label='Val Loss')\n",
    "plt.xlabel('Epoch')\n",
    "plt.ylabel('MSE Loss')\n",
    "plt.title('Training vs Validation Loss')\n",
    "plt.legend()\n",
    "plt.grid(True)\n",
    "plt.tight_layout()\n",
    "plt.savefig(\"learning_curves.png\")\n",
    "plt.show()"
   ]
  }
 ],
 "metadata": {
  "kernelspec": {
   "display_name": "ACS",
   "language": "python",
   "name": "python3"
  },
  "language_info": {
   "codemirror_mode": {
    "name": "ipython",
    "version": 3
   },
   "file_extension": ".py",
   "mimetype": "text/x-python",
   "name": "python",
   "nbconvert_exporter": "python",
   "pygments_lexer": "ipython3",
   "version": "3.10.18"
  }
 },
 "nbformat": 4,
 "nbformat_minor": 5
}
