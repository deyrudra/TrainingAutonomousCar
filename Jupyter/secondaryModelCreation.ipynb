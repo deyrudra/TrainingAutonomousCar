{
 "cells": [
  {
   "cell_type": "code",
   "execution_count": 32,
   "id": "c74349ac",
   "metadata": {},
   "outputs": [],
   "source": [
    "import os\n",
    "import numpy as np\n",
    "import torch\n",
    "import torch.nn as nn\n",
    "import torch.optim as optim\n",
    "from torch.utils.data import Dataset, DataLoader\n",
    "from torchvision import models, transforms\n",
    "from sklearn.model_selection import train_test_split\n",
    "import matplotlib.pyplot as plt"
   ]
  },
  {
   "cell_type": "code",
   "execution_count": null,
   "id": "3d7080d2",
   "metadata": {},
   "outputs": [],
   "source": [
    "# Dataset class for steering signals\n",
    "class SteeringDataset(Dataset):\n",
    "    def __init__(self, images, turn_signals, angles, transform=None):\n",
    "        self.images = images\n",
    "        self.turn_signals = turn_signals\n",
    "        self.labels = self.classify_angles(angles)\n",
    "        self.transform = transform\n",
    "\n",
    "    def __len__(self):\n",
    "        return len(self.images)\n",
    "\n",
    "    def __getitem__(self, idx):\n",
    "        img = self.images[idx]\n",
    "        #change from -1, 0, 1 to 0, 1, 2\n",
    "        signal = self.turn_signals[idx] + 1\n",
    "        label = self.labels[idx]\n",
    "\n",
    "        if self.transform:\n",
    "            img = self.transform(img)\n",
    "\n",
    "        return (\n",
    "            torch.tensor(img, dtype=torch.float32),\n",
    "            torch.tensor(signal, dtype=torch.long),\n",
    "            torch.tensor(label, dtype=torch.long)\n",
    "        )\n",
    "\n",
    "    @staticmethod\n",
    "    def classify_angles(angles):\n",
    "        # 7 classes of steering angles\n",
    "        bins = [-1.01, -0.45, -0.15, -0.04, 0.04, 0.15, 0.45, 1.01]\n",
    "        return np.digitize(angles, bins) - 1  "
   ]
  },
  {
   "cell_type": "code",
   "execution_count": null,
   "id": "6bd5941d",
   "metadata": {},
   "outputs": [],
   "source": [
    "# Steering angle classification model\n",
    "class SteeringClassifier(nn.Module):\n",
    "    def __init__(self, num_classes=7):\n",
    "        super(SteeringClassifier, self).__init__()\n",
    "        resnet = models.resnet18(pretrained=True)\n",
    "        resnet.fc = nn.Identity()\n",
    "        self.cnn = resnet\n",
    "        self.turn_embed = nn.Embedding(3, 16)\n",
    "        self.fc = nn.Sequential(\n",
    "            nn.Linear(512 + 16, 128),\n",
    "            nn.ReLU(),\n",
    "            nn.Linear(128, num_classes)\n",
    "        )\n",
    "\n",
    "    def forward(self, image, turn_signal):\n",
    "        x_img = self.cnn(image)\n",
    "        x_signal = self.turn_embed(turn_signal)\n",
    "        x = torch.cat((x_img, x_signal), dim=1)\n",
    "        return self.fc(x)\n"
   ]
  },
  {
   "cell_type": "code",
   "execution_count": null,
   "id": "a7ea4d49",
   "metadata": {},
   "outputs": [],
   "source": [
    "# Training function\n",
    "def train_model(model, train_loader, val_loader, criterion, optimizer, device, num_epochs=10, save_path=\"../Models/steering_checkpoint.pth\"):\n",
    "    model.to(device)\n",
    "    train_loss_history, val_loss_history = [], []\n",
    "\n",
    "    for epoch in range(num_epochs):\n",
    "        model.train()\n",
    "        total_loss = 0\n",
    "        for imgs, signals, labels in train_loader:\n",
    "            imgs, signals, labels = imgs.to(device), signals.to(device), labels.to(device)\n",
    "\n",
    "            #apply trasformations\n",
    "            optimizer.zero_grad()\n",
    "            outputs = model(imgs, signals)\n",
    "            loss = criterion(outputs, labels)\n",
    "            loss.backward()\n",
    "            optimizer.step()\n",
    "            total_loss += loss.item()\n",
    "\n",
    "        train_loss = total_loss / len(train_loader)\n",
    "        train_loss_history.append(train_loss)\n",
    "\n",
    "        # Validation\n",
    "        model.eval()\n",
    "        val_loss = 0\n",
    "        with torch.no_grad():\n",
    "            for imgs, signals, labels in val_loader:\n",
    "                imgs, signals, labels = imgs.to(device), signals.to(device), labels.to(device)\n",
    "                outputs = model(imgs, signals)\n",
    "                loss = criterion(outputs, labels)\n",
    "                val_loss += loss.item()\n",
    "        val_loss = val_loss / len(val_loader)\n",
    "        val_loss_history.append(val_loss)\n",
    "\n",
    "        print(f\"Epoch {epoch+1}/{num_epochs} - Train Loss: {train_loss:.4f}, Val Loss: {val_loss:.4f}\")\n",
    "\n",
    "        torch.save({\n",
    "            'epoch': epoch,\n",
    "            'model_state': model.state_dict(),\n",
    "            'optimizer_state': optimizer.state_dict()\n",
    "        }, save_path)\n",
    "\n",
    "    return train_loss_history, val_loss_history\n"
   ]
  },
  {
   "cell_type": "code",
   "execution_count": null,
   "id": "13ca3266",
   "metadata": {},
   "outputs": [],
   "source": [
    "# plotting the training and validation loss curves\n",
    "def plot_training_curves(train_loss, val_loss):\n",
    "    plt.figure()\n",
    "    plt.plot(train_loss, label='Train Loss')\n",
    "    plt.plot(val_loss, label='Val Loss')\n",
    "    plt.xlabel(\"Epochs\")\n",
    "    plt.ylabel(\"Loss\")\n",
    "    plt.title(\"Training vs Validation Loss\")\n",
    "    plt.legend()\n",
    "    plt.grid(True)\n",
    "    plt.show()"
   ]
  },
  {
   "cell_type": "code",
   "execution_count": null,
   "id": "9558f45b",
   "metadata": {},
   "outputs": [],
   "source": [
    "# Save the final model\n",
    "def save_final_model(model, path=\"../Models/steering_model_final.pth\"):\n",
    "    torch.save(model.state_dict(), path)"
   ]
  },
  {
   "cell_type": "code",
   "execution_count": null,
   "id": "bd6459a6",
   "metadata": {},
   "outputs": [
    {
     "name": "stderr",
     "output_type": "stream",
     "text": [
      "C:\\Users\\deyru\\AppData\\Local\\Temp\\ipykernel_29064\\2662808878.py:21: UserWarning: To copy construct from a tensor, it is recommended to use sourceTensor.detach().clone() or sourceTensor.detach().clone().requires_grad_(True), rather than torch.tensor(sourceTensor).\n",
      "  torch.tensor(img, dtype=torch.float32),\n"
     ]
    },
    {
     "name": "stdout",
     "output_type": "stream",
     "text": [
      "Epoch 1/5 - Train Loss: 0.4624, Val Loss: 0.5397\n",
      "Epoch 2/5 - Train Loss: 0.2177, Val Loss: 0.4563\n",
      "Epoch 3/5 - Train Loss: 0.1692, Val Loss: 0.4601\n",
      "Epoch 4/5 - Train Loss: 0.1324, Val Loss: 0.5770\n",
      "Epoch 5/5 - Train Loss: 0.0948, Val Loss: 0.5066\n"
     ]
    },
    {
     "data": {
      "image/png": "[encoded data removed]",
      "text/plain": [
       "<Figure size 640x480 with 1 Axes>"
      ]
     },
     "metadata": {},
     "output_type": "display_data"
    }
   ],
   "source": [
    "# Main\n",
    "if __name__ == \"__main__\":\n",
    "    # Load data\n",
    "    images = np.load(\"../output/std_images.npy\")\n",
    "    turn_signals = np.load(\"../output/std_turn_signals.npy\")\n",
    "    angles = np.load(\"../output/std_angles.npy\")\n",
    "\n",
    "    # Fix image shape if needed\n",
    "    if images.ndim == 4 and images.shape[1] == 3:\n",
    "        images = np.transpose(images, (0, 2, 3, 1))\n",
    "\n",
    "    # Normalize the images if not done so\n",
    "    if images.max() <= 1.0:\n",
    "        images = (images * 255).astype(np.uint8)\n",
    "    else:\n",
    "        images = images.astype(np.uint8)\n",
    "\n",
    "    # Define transformations\n",
    "    transform = transforms.Compose([\n",
    "        transforms.ToPILImage(),\n",
    "        transforms.Resize((224, 224)),\n",
    "        transforms.ToTensor(),\n",
    "        transforms.Normalize(mean=[0.485, 0.456, 0.406],\n",
    "                             std=[0.229, 0.224, 0.225])\n",
    "    ])\n",
    "\n",
    "    # Split data\n",
    "    split_idx = int(0.8 * len(images))\n",
    "    X_train, X_val = images[:split_idx], images[split_idx:]\n",
    "    s_train, s_val = turn_signals[:split_idx], turn_signals[split_idx:]\n",
    "    a_train, a_val = angles[:split_idx], angles[split_idx:]\n",
    "\n",
    "    # Dataset and loaders\n",
    "    train_dataset = SteeringDataset(X_train, s_train, a_train, transform)\n",
    "    val_dataset = SteeringDataset(X_val, s_val, a_val, transform)\n",
    "    train_loader = DataLoader(train_dataset, batch_size=32, shuffle=True)\n",
    "    val_loader = DataLoader(val_dataset, batch_size=32, shuffle=False)\n",
    "\n",
    "    # Model, Optimizer, Loss\n",
    "    device = torch.device(\"cuda\" if torch.cuda.is_available() else \"cpu\")\n",
    "    model = SteeringClassifier()\n",
    "    criterion = nn.CrossEntropyLoss()\n",
    "    optimizer = optim.Adam(model.parameters(), lr=1e-4)\n",
    "\n",
    "    # Train\n",
    "    train_loss, val_loss = train_model(\n",
    "        model, train_loader, val_loader,\n",
    "        criterion, optimizer, device,\n",
    "        num_epochs=5, save_path=\"../Models/steering_checkpoint.pth\"\n",
    "    )\n",
    "\n",
    "    # Plot and Save\n",
    "    plot_training_curves(train_loss, val_loss)\n",
    "    save_final_model(model, \"../Models/steering_model_final.pth\")"
   ]
  },
  {
   "cell_type": "code",
   "execution_count": null,
   "id": "e1d68de7",
   "metadata": {},
   "outputs": [],
   "source": []
  }
 ],
 "metadata": {
  "kernelspec": {
   "display_name": "ACS",
   "language": "python",
   "name": "python3"
  },
  "language_info": {
   "codemirror_mode": {
    "name": "ipython",
    "version": 3
   },
   "file_extension": ".py",
   "mimetype": "text/x-python",
   "name": "python",
   "nbconvert_exporter": "python",
   "pygments_lexer": "ipython3",
   "version": "3.10.18"
  }
 },
 "nbformat": 4,
 "nbformat_minor": 5
}
