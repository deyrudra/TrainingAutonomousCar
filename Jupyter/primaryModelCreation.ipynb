{
 "cells": [
  {
   "cell_type": "code",
   "execution_count": 3,
   "id": "162a12f7",
   "metadata": {},
   "outputs": [
    {
     "name": "stdout",
     "output_type": "stream",
     "text": [
      "Using device: cuda\n",
      "(8998, 120, 160, 4)\n",
      "(8998,)\n",
      "(8998,)\n"
     ]
    }
   ],
   "source": [
    "import numpy as np\n",
    "import torch\n",
    "import torch.nn as nn\n",
    "from torch.utils.data import Dataset, DataLoader\n",
    "from torchvision import models, transforms\n",
    "from PIL import Image\n",
    "from sklearn.model_selection import train_test_split\n",
    "\n",
    "# ========== Device Setup ==========\n",
    "device = torch.device(\"cuda\" if torch.cuda.is_available() else \"cpu\")\n",
    "print(f\"Using device: {device}\")\n",
    "\n",
    "# ========== Load the Dataset ==========\n",
    "# Load all three arrays\n",
    "images_np = np.load(\"../output/extra_large_images.npy\")\n",
    "angles_np = np.load(\"../output/extra_large_angles.npy\")\n",
    "signals_np = np.load(\"../output/extra_large_turn_signals.npy\")\n",
    "\n",
    "print(images_np.shape)     # Expected: (N, 160, 120, 3) or similar\n",
    "print(signals_np.shape)    # Expected: (N,)\n",
    "print(angles_np.shape)     # Expected: (N,)\n"
   ]
  },
  {
   "cell_type": "code",
   "execution_count": 4,
   "id": "9c3737d3",
   "metadata": {},
   "outputs": [],
   "source": [
    "# ========== Dataset Class ==========\n",
    "class CarlaDataset(Dataset):\n",
    "    def __init__(self, images_np, signals_np, angles_np):\n",
    "        # Drop alpha channel (RGBA ➝ RGB)\n",
    "        self.images = images_np[..., :3].astype(np.uint8)\n",
    "        self.signals = signals_np\n",
    "        self.angles = angles_np\n",
    "\n",
    "        self.transform = transforms.Compose([\n",
    "            transforms.ToPILImage(),\n",
    "            transforms.Resize((224, 224)),\n",
    "            transforms.ToTensor(),\n",
    "            transforms.Normalize(mean=[0.485, 0.456, 0.406],\n",
    "                                 std=[0.229, 0.224, 0.225])\n",
    "        ])\n",
    "\n",
    "    def __len__(self):\n",
    "        return len(self.images)\n",
    "\n",
    "    def __getitem__(self, idx):\n",
    "        img = self.transform(self.images[idx])\n",
    "        signal = torch.tensor([self.signals[idx]], dtype=torch.float32)\n",
    "        angle = torch.tensor([self.angles[idx]], dtype=torch.float32)\n",
    "        return img, signal, angle"
   ]
  },
  {
   "cell_type": "code",
   "execution_count": 5,
   "id": "904ed549",
   "metadata": {},
   "outputs": [],
   "source": [
    "# ========== Train/Validation Split ==========\n",
    "train_imgs, val_imgs, train_signals, val_signals, train_angles, val_angles = train_test_split(\n",
    "    images_np, signals_np, angles_np, test_size=0.2, random_state=42\n",
    ")\n",
    "\n",
    "train_dataset = CarlaDataset(train_imgs, train_signals, train_angles)\n",
    "val_dataset   = CarlaDataset(val_imgs, val_signals, val_angles)\n",
    "\n",
    "train_loader = DataLoader(train_dataset, batch_size=32, shuffle=True)\n",
    "val_loader   = DataLoader(val_dataset, batch_size=32, shuffle=False)"
   ]
  },
  {
   "cell_type": "code",
   "execution_count": 6,
   "id": "1951bd30",
   "metadata": {},
   "outputs": [
    {
     "name": "stderr",
     "output_type": "stream",
     "text": [
      "c:\\Users\\deyru\\anaconda3\\envs\\ACS\\lib\\site-packages\\torchvision\\models\\_utils.py:208: UserWarning: The parameter 'pretrained' is deprecated since 0.13 and may be removed in the future, please use 'weights' instead.\n",
      "  warnings.warn(\n",
      "c:\\Users\\deyru\\anaconda3\\envs\\ACS\\lib\\site-packages\\torchvision\\models\\_utils.py:223: UserWarning: Arguments other than a weight enum or `None` for 'weights' are deprecated since 0.13 and may be removed in the future. The current behavior is equivalent to passing `weights=ResNet18_Weights.IMAGENET1K_V1`. You can also use `weights=ResNet18_Weights.DEFAULT` to get the most up-to-date weights.\n",
      "  warnings.warn(msg)\n"
     ]
    }
   ],
   "source": [
    "# ========== Model Definition ==========\n",
    "class DrivingModel(nn.Module):\n",
    "    def __init__(self):\n",
    "        super().__init__()\n",
    "        cnn = models.resnet18(pretrained=True)\n",
    "        cnn.fc = nn.Identity()  # remove classifier head\n",
    "        self.cnn = cnn\n",
    "\n",
    "        self.fc = nn.Sequential(\n",
    "            nn.Linear(512 + 1, 128),\n",
    "            nn.ReLU(),\n",
    "            nn.Linear(128, 1)  # Steering angle output\n",
    "        )\n",
    "\n",
    "    def forward(self, img, signal):\n",
    "        features = self.cnn(img)                      # (B, 512)\n",
    "        x = torch.cat((features, signal), dim=1)      # (B, 513)\n",
    "        return self.fc(x)\n",
    "\n",
    "model = DrivingModel().to(device)"
   ]
  },
  {
   "cell_type": "code",
   "execution_count": 7,
   "id": "f873c0c0",
   "metadata": {},
   "outputs": [],
   "source": [
    "# ========== Loss and Optimizer ==========\n",
    "criterion = nn.MSELoss()\n",
    "optimizer = torch.optim.Adam(model.parameters(), lr=1e-4)"
   ]
  },
  {
   "cell_type": "code",
   "execution_count": 8,
   "id": "7d88d1f2",
   "metadata": {},
   "outputs": [
    {
     "name": "stdout",
     "output_type": "stream",
     "text": [
      "Epoch 1/10 | Train Loss: 0.0072 | Val Loss: 0.0023\n",
      "Epoch 2/10 | Train Loss: 0.0016 | Val Loss: 0.0025\n",
      "Epoch 3/10 | Train Loss: 0.0010 | Val Loss: 0.0014\n",
      "Epoch 4/10 | Train Loss: 0.0007 | Val Loss: 0.0011\n",
      "Epoch 5/10 | Train Loss: 0.0006 | Val Loss: 0.0011\n",
      "Epoch 6/10 | Train Loss: 0.0006 | Val Loss: 0.0014\n",
      "Epoch 7/10 | Train Loss: 0.0005 | Val Loss: 0.0010\n",
      "Epoch 8/10 | Train Loss: 0.0005 | Val Loss: 0.0009\n",
      "Epoch 9/10 | Train Loss: 0.0004 | Val Loss: 0.0009\n",
      "Epoch 10/10 | Train Loss: 0.0004 | Val Loss: 0.0010\n"
     ]
    }
   ],
   "source": [
    "# ========== Training Loop ==========\n",
    "train_losses = []\n",
    "val_losses = []\n",
    "\n",
    "num_epochs = 10\n",
    "\n",
    "for epoch in range(num_epochs):\n",
    "    model.train()\n",
    "    train_loss = 0.0\n",
    "\n",
    "    for img, signal, angle in train_loader:\n",
    "        img = img.to(device)\n",
    "        signal = signal.to(device)\n",
    "        angle = angle.to(device)\n",
    "\n",
    "        output = model(img, signal)\n",
    "        loss = criterion(output, angle)\n",
    "\n",
    "        optimizer.zero_grad()\n",
    "        loss.backward()\n",
    "        optimizer.step()\n",
    "\n",
    "        train_loss += loss.item() * img.size(0)\n",
    "\n",
    "    avg_train_loss = train_loss / len(train_loader.dataset)\n",
    "\n",
    "    # Validation\n",
    "    model.eval()\n",
    "    val_loss = 0.0\n",
    "    with torch.no_grad():\n",
    "        for img, signal, angle in val_loader:\n",
    "            img = img.to(device)\n",
    "            signal = signal.to(device)\n",
    "            angle = angle.to(device)\n",
    "\n",
    "            output = model(img, signal)\n",
    "            loss = criterion(output, angle)\n",
    "            val_loss += loss.item() * img.size(0)\n",
    "\n",
    "    avg_val_loss = val_loss / len(val_loader.dataset)\n",
    "    train_losses.append(avg_train_loss)\n",
    "    val_losses.append(avg_val_loss)\n",
    "    print(f\"Epoch {epoch+1}/{num_epochs} | Train Loss: {avg_train_loss:.4f} | Val Loss: {avg_val_loss:.4f}\")"
   ]
  },
  {
   "cell_type": "code",
   "execution_count": 9,
   "id": "bd6d47e1",
   "metadata": {},
   "outputs": [
    {
     "name": "stdout",
     "output_type": "stream",
     "text": [
      "Model saved as carla_model.pth\n"
     ]
    }
   ],
   "source": [
    "# ========== Save the Model ==========\n",
    "torch.save(model.state_dict(), \"../output/carla_model.pth\")\n",
    "print(\"Model saved as carla_model.pth\")"
   ]
  },
  {
   "cell_type": "code",
   "execution_count": 10,
   "id": "4db8f822",
   "metadata": {},
   "outputs": [
    {
     "data": {
      "image/png": "[encoded data removed]",
      "text/plain": [
       "<Figure size 1000x500 with 1 Axes>"
      ]
     },
     "metadata": {},
     "output_type": "display_data"
    }
   ],
   "source": [
    "import matplotlib.pyplot as plt\n",
    "\n",
    "plt.figure(figsize=(10, 5))\n",
    "plt.plot(train_losses, label='Train Loss')\n",
    "plt.plot(val_losses, label='Validation Loss')\n",
    "plt.xlabel('Epoch')\n",
    "plt.ylabel('MSE Loss')\n",
    "plt.title('Learning Curve')\n",
    "plt.legend()\n",
    "plt.grid(True)\n",
    "plt.tight_layout()\n",
    "plt.show()"
   ]
  }
 ],
 "metadata": {
  "kernelspec": {
   "display_name": "ACS",
   "language": "python",
   "name": "python3"
  },
  "language_info": {
   "codemirror_mode": {
    "name": "ipython",
    "version": 3
   },
   "file_extension": ".py",
   "mimetype": "text/x-python",
   "name": "python",
   "nbconvert_exporter": "python",
   "pygments_lexer": "ipython3",
   "version": "3.10.18"
  }
 },
 "nbformat": 4,
 "nbformat_minor": 5
}
