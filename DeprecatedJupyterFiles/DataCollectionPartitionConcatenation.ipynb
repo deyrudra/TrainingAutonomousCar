{
 "cells": [
  {
   "cell_type": "code",
   "execution_count": 20,
   "id": "cbce4740",
   "metadata": {},
   "outputs": [],
   "source": [
    "import numpy as np\n",
    "import glob\n",
    "import random\n",
    "import os"
   ]
  },
  {
   "cell_type": "code",
   "execution_count": 21,
   "id": "c0f4cef6",
   "metadata": {},
   "outputs": [],
   "source": [
    "\n",
    "# 1. Find all your “partition” files by prefix\n",
    "#    e.g. output/Town07_80s_images.npy → prefix=output/Town07_80s\n",
    "image_files = sorted(glob.glob('../output/partitions/*_images.npy'))\n",
    "partitions = []\n",
    "for img_path in image_files:\n",
    "    prefix = img_path[:-len('_images.npy')]\n",
    "    ang_path = prefix + '_angles.npy'\n",
    "    sig_path = prefix + '_turn_signals.npy'\n",
    "    if os.path.exists(ang_path) and os.path.exists(sig_path):\n",
    "        partitions.append((img_path, ang_path, sig_path))\n",
    "    else:\n",
    "        raise FileNotFoundError(f\"Missing angles/signals for {prefix}\")\n",
    "\n"
   ]
  },
  {
   "cell_type": "code",
   "execution_count": 22,
   "id": "01542323",
   "metadata": {},
   "outputs": [],
   "source": [
    "# 2. Shuffle the list of partitions (not the data inside)\n",
    "random.shuffle(partitions)\n"
   ]
  },
  {
   "cell_type": "code",
   "execution_count": 23,
   "id": "55e74f05",
   "metadata": {},
   "outputs": [
    {
     "name": "stdout",
     "output_type": "stream",
     "text": [
      "Final shapes: (44985, 244, 244, 3) (44985,) (44985,)\n"
     ]
    }
   ],
   "source": [
    "# 3. Load & concatenate in that shuffled order\n",
    "imgs_list, angs_list, sigs_list = [], [], []\n",
    "for img_path, ang_path, sig_path in partitions:\n",
    "    imgs_list .append(np.load(img_path))\n",
    "    angs_list .append(np.load(ang_path))\n",
    "    sigs_list .append(np.load(sig_path))\n",
    "\n",
    "all_images  = np.concatenate(imgs_list, axis=0)\n",
    "all_angles  = np.concatenate(angs_list, axis=0)\n",
    "all_signals = np.concatenate(sigs_list, axis=0)\n",
    "\n",
    "print(\"Final shapes:\", all_images.shape, all_angles.shape, all_signals.shape)\n",
    "\n",
    "# 4. (Optional) Save out your big arrays\n",
    "np.save('../output/all_images.npy',  all_images)\n",
    "np.save('../output/all_angles.npy',  all_angles)\n",
    "np.save('../output/all_turn_signals.npy', all_signals)"
   ]
  }
 ],
 "metadata": {
  "kernelspec": {
   "display_name": "ACS",
   "language": "python",
   "name": "python3"
  },
  "language_info": {
   "codemirror_mode": {
    "name": "ipython",
    "version": 3
   },
   "file_extension": ".py",
   "mimetype": "text/x-python",
   "name": "python",
   "nbconvert_exporter": "python",
   "pygments_lexer": "ipython3",
   "version": "3.10.18"
  }
 },
 "nbformat": 4,
 "nbformat_minor": 5
}
