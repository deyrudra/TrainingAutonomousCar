{
 "cells": [
  {
   "cell_type": "code",
   "execution_count": 36,
   "id": "9d423849",
   "metadata": {},
   "outputs": [],
   "source": [
    "import torch\n",
    "import torch.nn as nn\n",
    "from torchvision import models, transforms\n",
    "from torch.utils.data import Dataset, DataLoader\n",
    "import numpy as np\n",
    "from sklearn.model_selection import train_test_split\n",
    "import matplotlib.pyplot as plt"
   ]
  },
  {
   "cell_type": "code",
   "execution_count": 37,
   "id": "195ab957",
   "metadata": {},
   "outputs": [],
   "source": [
    "# ================== Dataset Class ==================\n",
    "class CarlaDataset(Dataset):\n",
    "    def __init__(self, images, angles, signals, transform=None):\n",
    "        self.images = images\n",
    "        self.angles = angles\n",
    "        self.signals = signals\n",
    "        self.transform = transform\n",
    "\n",
    "    def __len__(self):\n",
    "        return len(self.images)\n",
    "\n",
    "    def __getitem__(self, idx):\n",
    "        img = self.images[idx]  # (3, 224, 224)\n",
    "        angle = self.angles[idx]\n",
    "        signal = self.signals[idx]\n",
    "\n",
    "        if self.transform:\n",
    "            img = self.transform(img)\n",
    "\n",
    "        return torch.tensor(img, dtype=torch.float32), torch.tensor(signal).unsqueeze(0), torch.tensor(angle)"
   ]
  },
  {
   "cell_type": "code",
   "execution_count": null,
   "id": "eb2d7354",
   "metadata": {},
   "outputs": [],
   "source": [
    "# ================== Model ==================\n",
    "class SteeringModel(nn.Module):\n",
    "    def __init__(self):\n",
    "        super(SteeringModel, self).__init__()\n",
    "        resnet = models.resnet18(pretrained=True)\n",
    "        self.cnn_backbone = nn.Sequential(*list(resnet.children())[:-1])  # Output: (B, 512, 1, 1)\n",
    "\n",
    "        self.signal_fc = nn.Sequential(\n",
    "            nn.Linear(1, 32),\n",
    "            nn.ReLU()\n",
    "        )\n",
    "\n",
    "        self.combined_fc = nn.Sequential(\n",
    "            nn.Linear(512 + 32, 128),\n",
    "            nn.ReLU(),\n",
    "            nn.Linear(128, 1)\n",
    "        )\n",
    "\n",
    "    def forward(self, image, signal):\n",
    "        x = self.cnn_backbone(image)  # (B, 512, 1, 1)\n",
    "        x = x.view(x.size(0), -1)     # (B, 512)\n",
    "        s = self.signal_fc(signal)   # (B, 32)\n",
    "        combined = torch.cat([x, s], dim=1)  # (B, 544)\n",
    "        out = self.combined_fc(combined)     # (B, 1)\n",
    "        return out.squeeze(1)  # (B,)"
   ]
  },
  {
   "cell_type": "code",
   "execution_count": 39,
   "id": "477ee726",
   "metadata": {},
   "outputs": [],
   "source": [
    "# ================== Load Data ==================\n",
    "images = np.load('../output/new_images.npy')         # (N, 3, 224, 224)\n",
    "angles = np.load('../output/new_angles.npy').astype(np.float32)\n",
    "signals = np.load('../output/new_turn_signals.npy').astype(np.float32)\n",
    "\n",
    "train_idx, val_idx = train_test_split(np.arange(len(images)), test_size=0.2, random_state=42)\n",
    "\n",
    "train_data = (images[train_idx], angles[train_idx], signals[train_idx])\n",
    "val_data = (images[val_idx], angles[val_idx], signals[val_idx])"
   ]
  },
  {
   "cell_type": "code",
   "execution_count": 40,
   "id": "5cea815d",
   "metadata": {},
   "outputs": [],
   "source": [
    "# ================== Transforms ==================\n",
    "transform = transforms.Compose([\n",
    "    transforms.Lambda(lambda x: x / 255.0),  # Scale from [0, 255] to [0.0, 1.0]\n",
    "    transforms.ToTensor(),  # Redundant if already tensor format, but kept for safety\n",
    "    transforms.Normalize(mean=[0.485, 0.456, 0.406],\n",
    "                         std=[0.229, 0.224, 0.225])\n",
    "])"
   ]
  },
  {
   "cell_type": "code",
   "execution_count": 41,
   "id": "f3c38c34",
   "metadata": {},
   "outputs": [],
   "source": [
    "# ================== Dataloaders ==================\n",
    "train_dataset = CarlaDataset(*train_data, transform=transform)\n",
    "val_dataset = CarlaDataset(*val_data, transform=transform)\n",
    "\n",
    "train_loader = DataLoader(train_dataset, batch_size=32, shuffle=True)\n",
    "val_loader = DataLoader(val_dataset, batch_size=32, shuffle=False)\n"
   ]
  },
  {
   "cell_type": "code",
   "execution_count": null,
   "id": "a9619d09",
   "metadata": {},
   "outputs": [
    {
     "name": "stderr",
     "output_type": "stream",
     "text": [
      "c:\\Users\\Pravin\\anaconda3\\envs\\ACS\\lib\\site-packages\\torchvision\\models\\_utils.py:208: UserWarning: The parameter 'pretrained' is deprecated since 0.13 and may be removed in the future, please use 'weights' instead.\n",
      "  warnings.warn(\n",
      "c:\\Users\\Pravin\\anaconda3\\envs\\ACS\\lib\\site-packages\\torchvision\\models\\_utils.py:223: UserWarning: Arguments other than a weight enum or `None` for 'weights' are deprecated since 0.13 and may be removed in the future. The current behavior is equivalent to passing `weights=ResNet18_Weights.IMAGENET1K_V1`. You can also use `weights=ResNet18_Weights.DEFAULT` to get the most up-to-date weights.\n",
      "  warnings.warn(msg)\n"
     ]
    }
   ],
   "source": [
    "# ================== Training Setup ==================\n",
    "device = torch.device('cuda' if torch.cuda.is_available() else 'cpu')\n",
    "model = SteeringModel().to(device)\n",
    "optimizer = torch.optim.Adam(model.parameters(), lr=1e-10)\n",
    "criterion = nn.MSELoss()\n",
    "\n",
    "train_losses = []\n",
    "val_losses = []\n",
    "best_val_loss = float('inf')"
   ]
  },
  {
   "cell_type": "code",
   "execution_count": 43,
   "id": "14469ca5",
   "metadata": {},
   "outputs": [
    {
     "name": "stderr",
     "output_type": "stream",
     "text": [
      "C:\\Users\\Pravin\\AppData\\Local\\Temp\\ipykernel_6252\\2607652348.py:20: UserWarning: To copy construct from a tensor, it is recommended to use sourceTensor.detach().clone() or sourceTensor.detach().clone().requires_grad_(True), rather than torch.tensor(sourceTensor).\n",
      "  return torch.tensor(img, dtype=torch.float32), torch.tensor(signal).unsqueeze(0), torch.tensor(angle)\n"
     ]
    },
    {
     "name": "stdout",
     "output_type": "stream",
     "text": [
      "Epoch 1 | Train Loss: 0.0047 | Val Loss: 0.0016\n",
      "Epoch 2 | Train Loss: 0.0013 | Val Loss: 0.0012\n",
      "Epoch 3 | Train Loss: 0.0009 | Val Loss: 0.0010\n",
      "Epoch 4 | Train Loss: 0.0006 | Val Loss: 0.0012\n",
      "Epoch 5 | Train Loss: 0.0006 | Val Loss: 0.0010\n",
      "Epoch 6 | Train Loss: 0.0005 | Val Loss: 0.0009\n",
      "Epoch 7 | Train Loss: 0.0005 | Val Loss: 0.0009\n",
      "Epoch 8 | Train Loss: 0.0005 | Val Loss: 0.0016\n",
      "Epoch 9 | Train Loss: 0.0004 | Val Loss: 0.0010\n",
      "Epoch 10 | Train Loss: 0.0005 | Val Loss: 0.0015\n"
     ]
    }
   ],
   "source": [
    "# ================== Training Loop ==================\n",
    "for epoch in range(10):\n",
    "    model.train()\n",
    "    total_train_loss = 0\n",
    "    for images, signals, angles in train_loader:\n",
    "        images, signals, angles = images.to(device), signals.to(device), angles.to(device)\n",
    "\n",
    "        optimizer.zero_grad()\n",
    "        preds = model(images, signals)\n",
    "        loss = criterion(preds, angles)\n",
    "        loss.backward()\n",
    "        optimizer.step()\n",
    "        total_train_loss += loss.item()\n",
    "\n",
    "    avg_train_loss = total_train_loss / len(train_loader)\n",
    "    train_losses.append(avg_train_loss)\n",
    "\n",
    "    # === Validation ===\n",
    "    model.eval()\n",
    "    total_val_loss = 0\n",
    "    with torch.no_grad():\n",
    "        for images, signals, angles in val_loader:\n",
    "            images, signals, angles = images.to(device), signals.to(device), angles.to(device)\n",
    "            preds = model(images, signals)\n",
    "            loss = criterion(preds, angles)\n",
    "            total_val_loss += loss.item()\n",
    "\n",
    "    avg_val_loss = total_val_loss / len(val_loader)\n",
    "    val_losses.append(avg_val_loss)\n",
    "\n",
    "    print(f\"Epoch {epoch+1} | Train Loss: {avg_train_loss:.4f} | Val Loss: {avg_val_loss:.4f}\")\n",
    "\n",
    "    # Save best model\n",
    "    if avg_val_loss < best_val_loss:\n",
    "        best_val_loss = avg_val_loss\n",
    "        torch.save(model.state_dict(), \"best_steering_model.pth\")\n"
   ]
  },
  {
   "cell_type": "code",
   "execution_count": 44,
   "id": "cedf18ed",
   "metadata": {},
   "outputs": [
    {
     "data": {
      "image/png": "[encoded data removed]",
      "text/plain": [
       "<Figure size 800x500 with 1 Axes>"
      ]
     },
     "metadata": {},
     "output_type": "display_data"
    }
   ],
   "source": [
    "# ================== Plot Learning Curves ==================\n",
    "plt.figure(figsize=(8,5))\n",
    "plt.plot(train_losses, label='Train Loss')\n",
    "plt.plot(val_losses, label='Val Loss')\n",
    "plt.xlabel('Epoch')\n",
    "plt.ylabel('MSE Loss')\n",
    "plt.title('Training vs Validation Loss')\n",
    "plt.legend()\n",
    "plt.grid(True)\n",
    "plt.tight_layout()\n",
    "plt.savefig(\"learning_curves.png\")\n",
    "plt.show()"
   ]
  }
 ],
 "metadata": {
  "kernelspec": {
   "display_name": "ACS",
   "language": "python",
   "name": "python3"
  },
  "language_info": {
   "codemirror_mode": {
    "name": "ipython",
    "version": 3
   },
   "file_extension": ".py",
   "mimetype": "text/x-python",
   "name": "python",
   "nbconvert_exporter": "python",
   "pygments_lexer": "ipython3",
   "version": "3.10.18"
  }
 },
 "nbformat": 4,
 "nbformat_minor": 5
}
