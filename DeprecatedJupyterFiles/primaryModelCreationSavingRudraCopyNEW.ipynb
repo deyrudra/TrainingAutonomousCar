{
 "cells": [
  {
   "cell_type": "code",
   "execution_count": 68,
   "id": "8cf26599",
   "metadata": {},
   "outputs": [],
   "source": [
    "import os\n",
    "import torch\n",
    "import torch.nn as nn\n",
    "from torchvision import models, transforms\n",
    "from torch.utils.data import Dataset, DataLoader\n",
    "import numpy as np\n",
    "from sklearn.model_selection import train_test_split\n",
    "import matplotlib.pyplot as plt\n"
   ]
  },
  {
   "cell_type": "code",
   "execution_count": 69,
   "id": "fbf9b920",
   "metadata": {},
   "outputs": [],
   "source": [
    "# ================== Dataset ==================\n",
    "class CarlaDataset(Dataset):\n",
    "    def __init__(self, images, angles, signals, transform=None):\n",
    "        self.images = images\n",
    "        self.angles = angles\n",
    "        self.signals = signals\n",
    "        self.transform = transform\n",
    "\n",
    "    def __len__(self):\n",
    "        return len(self.images)\n",
    "\n",
    "    def __getitem__(self, idx):\n",
    "        img = self.images[idx]\n",
    "        angle = self.angles[idx]\n",
    "        signal = self.signals[idx]\n",
    "\n",
    "        if self.transform:\n",
    "            img = self.transform(img)\n",
    "\n",
    "        return (\n",
    "            torch.tensor(img, dtype=torch.float32),\n",
    "            torch.tensor(signal).unsqueeze(0),\n",
    "            torch.tensor(angle, dtype=torch.float32)\n",
    "        )\n"
   ]
  },
  {
   "cell_type": "code",
   "execution_count": 70,
   "id": "f9bf51fa",
   "metadata": {},
   "outputs": [],
   "source": [
    "# ================== Model ==================\n",
    "class SteeringModel(nn.Module):\n",
    "    def __init__(self):\n",
    "        super(SteeringModel, self).__init__()\n",
    "        resnet = models.resnet18(pretrained=True)\n",
    "        for param in resnet.parameters():\n",
    "            param.requires_grad = False\n",
    "        for param in resnet.layer4.parameters():\n",
    "            param.requires_grad = True\n",
    "\n",
    "        self.cnn_backbone = nn.Sequential(*list(resnet.children())[:-1])  # (B, 512, 1, 1)\n",
    "\n",
    "        self.signal_fc = nn.Sequential(\n",
    "            nn.Linear(1, 32),\n",
    "            nn.ReLU()\n",
    "        )\n",
    "\n",
    "        self.fc_left = nn.Sequential(\n",
    "            nn.Linear(512 + 32, 128),\n",
    "            nn.ReLU(),\n",
    "            nn.Linear(128, 1)\n",
    "        )\n",
    "        self.fc_right = nn.Sequential(\n",
    "            nn.Linear(512 + 32, 128),\n",
    "            nn.ReLU(),\n",
    "            nn.Linear(128, 1)\n",
    "        )\n",
    "        self.fc_straight = nn.Sequential(\n",
    "            nn.Linear(512 + 32, 128),\n",
    "            nn.ReLU(),\n",
    "            nn.Linear(128, 1)\n",
    "        )\n",
    "\n",
    "    def forward(self, image, signal):\n",
    "        x = self.cnn_backbone(image)\n",
    "        x = x.view(x.size(0), -1)\n",
    "        s = self.signal_fc(signal)\n",
    "        combined = torch.cat([x, s], dim=1)\n",
    "\n",
    "        preds = torch.zeros(image.size(0), 1, device=image.device)\n",
    "        left_mask = (signal.squeeze(1) == -1)\n",
    "        right_mask = (signal.squeeze(1) == 1)\n",
    "        straight_mask = (signal.squeeze(1) == 0)\n",
    "\n",
    "        if left_mask.any():\n",
    "            preds[left_mask] = self.fc_left(combined[left_mask])\n",
    "        if right_mask.any():\n",
    "            preds[right_mask] = self.fc_right(combined[right_mask])\n",
    "        if straight_mask.any():\n",
    "            preds[straight_mask] = self.fc_straight(combined[straight_mask])\n",
    "\n",
    "        return preds.squeeze(1)"
   ]
  },
  {
   "cell_type": "code",
   "execution_count": 71,
   "id": "278ddb69",
   "metadata": {},
   "outputs": [],
   "source": [
    "# ================== Loss ==================\n",
    "class DirectionalWeightedMSE(nn.Module):\n",
    "    def __init__(self, left_weight=0.0, right_weight=0.0, straight_weight=1.0):\n",
    "        super().__init__()\n",
    "        self.left_weight = left_weight\n",
    "        self.right_weight = right_weight\n",
    "        self.straight_weight = straight_weight\n",
    "\n",
    "    def forward(self, preds, targets, signals):\n",
    "        weights = torch.ones_like(targets)\n",
    "        weights[signals.squeeze() == -1] = self.left_weight\n",
    "        weights[signals.squeeze() == 1] = self.right_weight\n",
    "        weights[signals.squeeze() == 0] = self.straight_weight\n",
    "        loss = weights * (preds - targets) ** 2\n",
    "        return loss.mean()"
   ]
  },
  {
   "cell_type": "code",
   "execution_count": 72,
   "id": "f958829b",
   "metadata": {},
   "outputs": [],
   "source": [
    "# ================== Load Data ==================\n",
    "images = np.load('../output/all_images.npy')         # (N, 3, 224, 224)\n",
    "angles = np.load('../output/all_angles.npy').astype(np.float32)\n",
    "signals = np.load('../output/all_turn_signals.npy').astype(np.float32)\n",
    "\n",
    "train_idx, val_idx = train_test_split(\n",
    "    np.arange(len(images)),\n",
    "    test_size=0.2,\n",
    "    shuffle=False  # No shuffling for time series data\n",
    ")\n",
    "\n",
    "train_data = (images[train_idx], angles[train_idx], signals[train_idx])\n",
    "val_data   = (images[val_idx],   angles[val_idx],   signals[val_idx])"
   ]
  },
  {
   "cell_type": "code",
   "execution_count": 73,
   "id": "87550ce2",
   "metadata": {},
   "outputs": [],
   "source": [
    "# ================== Transforms ==================\n",
    "transform = transforms.Compose([\n",
    "    transforms.ToTensor(),\n",
    "    transforms.Normalize(\n",
    "        mean=[0.485, 0.456, 0.406],\n",
    "        std= [0.229, 0.224, 0.225]\n",
    "    )\n",
    "])"
   ]
  },
  {
   "cell_type": "code",
   "execution_count": 77,
   "id": "4721a5cd",
   "metadata": {},
   "outputs": [],
   "source": [
    "# ================== Dataloaders ==================\n",
    "train_dataset = CarlaDataset(*train_data, transform=transform)\n",
    "val_dataset   = CarlaDataset(*val_data,   transform=transform)\n",
    "\n",
    "train_loader = DataLoader(train_dataset, batch_size=32, shuffle=False)\n",
    "val_loader   = DataLoader(val_dataset,   batch_size=32, shuffle=False)\n",
    "\n",
    "# ================== Training Setup ==================\n",
    "device    = torch.device('cuda' if torch.cuda.is_available() else 'cpu')\n",
    "model     = SteeringModel().to(device)\n",
    "optimizer = torch.optim.Adam(model.parameters(), lr=1e-3, weight_decay=1e-5)\n",
    "# criterion = DirectionalWeightedMSE()\n",
    "criterion = nn.MSELoss()\n",
    "\n",
    "# Prepare checkpointing\n",
    "os.makedirs(\"../models\", exist_ok=True)\n",
    "checkpoint_path = \"../models/RDModel_checkpoint.pth\"\n",
    "start_epoch     = 1\n",
    "num_epochs      = 25\n",
    "\n",
    "if os .path.isfile(checkpoint_path):\n",
    "    ckpt = torch.load(checkpoint_path, map_location=device)\n",
    "    model.load_state_dict(ckpt['model_state'])\n",
    "    optimizer.load_state_dict(ckpt['opt_state'])\n",
    "    start_epoch     = ckpt['epoch'] + 1\n",
    "    best_val_loss   = ckpt['best_val']\n",
    "    print(f\"Loaded checkpoint: resuming from epoch {start_epoch}, best val loss = {best_val_loss:.4f}\")\n",
    "else:\n",
    "    best_val_loss = float('inf')\n",
    "\n",
    "train_losses = []\n",
    "val_losses   = []"
   ]
  },
  {
   "cell_type": "code",
   "execution_count": 78,
   "id": "16e6d6fb",
   "metadata": {},
   "outputs": [
    {
     "name": "stderr",
     "output_type": "stream",
     "text": [
      "C:\\Users\\Pravin\\AppData\\Local\\Temp\\ipykernel_27084\\1552530543.py:21: UserWarning: To copy construct from a tensor, it is recommended to use sourceTensor.detach().clone() or sourceTensor.detach().clone().requires_grad_(True), rather than torch.tensor(sourceTensor).\n",
      "  torch.tensor(img, dtype=torch.float32),\n"
     ]
    },
    {
     "name": "stdout",
     "output_type": "stream",
     "text": [
      "Epoch 1 | Train Loss: 0.0138 | Val Loss: 0.0103\n",
      "  → Saved checkpoint (val loss 0.0103)\n",
      "Epoch 2 | Train Loss: 0.0080 | Val Loss: 0.0136\n"
     ]
    },
    {
     "ename": "KeyboardInterrupt",
     "evalue": "",
     "output_type": "error",
     "traceback": [
      "\u001b[1;31m---------------------------------------------------------------------------\u001b[0m",
      "\u001b[1;31mKeyboardInterrupt\u001b[0m                         Traceback (most recent call last)",
      "Cell \u001b[1;32mIn[78], line 25\u001b[0m\n\u001b[0;32m     23\u001b[0m \u001b[38;5;28;01mwith\u001b[39;00m torch\u001b[38;5;241m.\u001b[39mno_grad():\n\u001b[0;32m     24\u001b[0m     \u001b[38;5;28;01mfor\u001b[39;00m imgs, sigs, angs \u001b[38;5;129;01min\u001b[39;00m val_loader:\n\u001b[1;32m---> 25\u001b[0m         imgs, sigs, angs \u001b[38;5;241m=\u001b[39m \u001b[43mimgs\u001b[49m\u001b[38;5;241;43m.\u001b[39;49m\u001b[43mto\u001b[49m\u001b[43m(\u001b[49m\u001b[43mdevice\u001b[49m\u001b[43m)\u001b[49m, sigs\u001b[38;5;241m.\u001b[39mto(device), angs\u001b[38;5;241m.\u001b[39mto(device)\n\u001b[0;32m     26\u001b[0m         preds \u001b[38;5;241m=\u001b[39m model(imgs, sigs)\n\u001b[0;32m     27\u001b[0m         \u001b[38;5;66;03m# loss = criterion(preds, angs, sigs)\u001b[39;00m\n",
      "\u001b[1;31mKeyboardInterrupt\u001b[0m: "
     ]
    }
   ],
   "source": [
    "\n",
    "# ================== Training Loop ==================\n",
    "for epoch in range(start_epoch, num_epochs + 1):\n",
    "    # — Training —\n",
    "    model.train()\n",
    "    total_train_loss = 0.0\n",
    "    for imgs, sigs, angs in train_loader:\n",
    "        imgs, sigs, angs = imgs.to(device), sigs.to(device), angs.to(device)\n",
    "\n",
    "        optimizer.zero_grad()\n",
    "        preds = model(imgs, sigs)\n",
    "        # loss = criterion(preds, angs, sigs)\n",
    "        loss = criterion(preds, angs)\n",
    "        loss.backward()\n",
    "        optimizer.step()\n",
    "        total_train_loss += loss.item()\n",
    "\n",
    "    avg_train_loss = total_train_loss / len(train_loader)\n",
    "    train_losses.append(avg_train_loss)\n",
    "\n",
    "    # — Validation —\n",
    "    model.eval()\n",
    "    total_val_loss = 0.0\n",
    "    with torch.no_grad():\n",
    "        for imgs, sigs, angs in val_loader:\n",
    "            imgs, sigs, angs = imgs.to(device), sigs.to(device), angs.to(device)\n",
    "            preds = model(imgs, sigs)\n",
    "            # loss = criterion(preds, angs, sigs)\n",
    "            loss = criterion(preds, angs)\n",
    "            total_val_loss += loss.item()\n",
    "\n",
    "    avg_val_loss = total_val_loss / len(val_loader)\n",
    "    val_losses.append(avg_val_loss)\n",
    "\n",
    "    print(f\"Epoch {epoch} | Train Loss: {avg_train_loss:.4f} | Val Loss: {avg_val_loss:.4f}\")\n",
    "\n",
    "    # — Checkpoint if improved —\n",
    "    if avg_val_loss < best_val_loss:\n",
    "        best_val_loss = avg_val_loss\n",
    "        checkpoint = {\n",
    "            'epoch':       epoch,\n",
    "            'model_state': model.state_dict(),\n",
    "            'opt_state':   optimizer.state_dict(),\n",
    "            'best_val':    best_val_loss,\n",
    "        }\n",
    "        torch.save(checkpoint, checkpoint_path)\n",
    "        print(f\"  → Saved checkpoint (val loss {best_val_loss:.4f})\")"
   ]
  },
  {
   "cell_type": "code",
   "execution_count": 79,
   "id": "fc53de33",
   "metadata": {},
   "outputs": [
    {
     "data": {
      "image/png": "[encoded data removed]",
      "text/plain": [
       "<Figure size 800x500 with 1 Axes>"
      ]
     },
     "metadata": {},
     "output_type": "display_data"
    }
   ],
   "source": [
    "# ================== Plot Loss ==================\n",
    "plt.figure(figsize=(8,5))\n",
    "plt.plot(range(start_epoch, start_epoch + len(train_losses)), train_losses, label='Train Loss')\n",
    "plt.plot(range(start_epoch, start_epoch + len(val_losses)),   val_losses,   label='Val Loss')\n",
    "plt.xlabel('Epoch')\n",
    "plt.ylabel('MSE Loss')\n",
    "plt.title('Training vs Validation Loss')\n",
    "plt.legend()\n",
    "plt.grid(True)\n",
    "plt.tight_layout()\n",
    "plt.savefig(\"learning_curves.png\")\n",
    "plt.show()"
   ]
  },
  {
   "cell_type": "markdown",
   "id": "64a82d73",
   "metadata": {},
   "source": [
    "RDModel_checkpoint.pth, how do lower the learning rate and train it with another set of data\n",
    "Here’s a minimal example of how to\n",
    "\n",
    "1. load your existing checkpoint.\n",
    "2. drop the LR to 1e-5,\n",
    "3. point to a new dataset,\n",
    "4. and continue training."
   ]
  },
  {
   "cell_type": "code",
   "execution_count": null,
   "id": "83cc1db9",
   "metadata": {},
   "outputs": [],
   "source": [
    "import torch\n",
    "import torch.nn as nn\n",
    "from torch.utils.data import Dataset, DataLoader\n",
    "import numpy as np\n",
    "from sklearn.model_selection import train_test_split"
   ]
  },
  {
   "cell_type": "code",
   "execution_count": null,
   "id": "130101cc",
   "metadata": {},
   "outputs": [
    {
     "name": "stdout",
     "output_type": "stream",
     "text": [
      "Loaded checkpoint from epoch 6 (best_val=0.0055)\n"
     ]
    }
   ],
   "source": [
    "device = torch.device('cuda' if torch.cuda.is_available() else 'cpu')\n",
    "\n",
    "# 1) Instantiate your model & optimizer\n",
    "model     = SteeringModel().to(device)\n",
    "optimizer = torch.optim.Adam(model.parameters(), lr=1e-4)   # dummy lr for now\n",
    "# criterion = DirectionalWeightedMSE()\n",
    "criterion = nn.MSELoss()\n",
    "\n",
    "# 2) Load checkpoint\n",
    "ckpt = torch.load(\"../Models/RDModel_checkpoint.pth\", map_location=device)\n",
    "model.load_state_dict(ckpt['model_state'])\n",
    "optimizer.load_state_dict(ckpt['opt_state'])\n",
    "print(f\"Loaded checkpoint from epoch {ckpt['epoch']} (best_val={ckpt['best_val']:.4f})\")"
   ]
  },
  {
   "cell_type": "code",
   "execution_count": null,
   "id": "a21ec71f",
   "metadata": {},
   "outputs": [
    {
     "name": "stdout",
     "output_type": "stream",
     "text": [
      "New learning rates: [1e-05]\n"
     ]
    }
   ],
   "source": [
    "# 3) Lower the learning rate for fine-tuning\n",
    "for pg in optimizer.param_groups:\n",
    "    pg['lr'] = 1e-5\n",
    "print(\"New learning rates:\", [pg['lr'] for pg in optimizer.param_groups])"
   ]
  },
  {
   "cell_type": "code",
   "execution_count": null,
   "id": "e11afb22",
   "metadata": {},
   "outputs": [],
   "source": [
    "# 4) Prepare your new dataset\n",
    "new_images  = np.load(\"../output/std_images.npy\")       # shape (N,3,224,224)\n",
    "new_angles  = np.load(\"../output/std_angles.npy\").astype(np.float32)\n",
    "new_signals = np.load(\"../output/std_turn_signals.npy\").astype(np.float32)"
   ]
  },
  {
   "cell_type": "code",
   "execution_count": null,
   "id": "476be890",
   "metadata": {},
   "outputs": [],
   "source": [
    "# optional: split into train/val\n",
    "train_idx, val_idx = train_test_split(\n",
    "    np.arange(len(new_images)),\n",
    "    test_size=0.2, shuffle=False\n",
    ")"
   ]
  },
  {
   "cell_type": "code",
   "execution_count": null,
   "id": "a0a6ed3b",
   "metadata": {},
   "outputs": [],
   "source": [
    "train_data = (new_images[train_idx], new_angles[train_idx], new_signals[train_idx])\n",
    "val_data   = (new_images[val_idx],   new_angles[val_idx],   new_signals[val_idx])"
   ]
  },
  {
   "cell_type": "code",
   "execution_count": null,
   "id": "8bb30073",
   "metadata": {},
   "outputs": [],
   "source": [
    "# reuse your transforms\n",
    "from torchvision import transforms\n",
    "transform = transforms.Compose([\n",
    "    transforms.ToTensor(),\n",
    "    transforms.Normalize(mean=[0.485,0.456,0.406], std=[0.229,0.224,0.225])\n",
    "])\n"
   ]
  },
  {
   "cell_type": "code",
   "execution_count": null,
   "id": "15538500",
   "metadata": {},
   "outputs": [],
   "source": [
    "\n",
    "train_loader = DataLoader(\n",
    "    CarlaDataset(*train_data, transform=transform),\n",
    "    batch_size=32, shuffle=False\n",
    ")\n",
    "val_loader = DataLoader(\n",
    "    CarlaDataset(*val_data, transform=transform),\n",
    "    batch_size=32, shuffle=False\n",
    ")"
   ]
  },
  {
   "cell_type": "code",
   "execution_count": null,
   "id": "775d6418",
   "metadata": {},
   "outputs": [],
   "source": [
    "# 5) Continue fine-tuning\n",
    "extra_epochs = 0\n",
    "for epoch in range(ckpt['epoch']+1, ckpt['epoch'] + extra_epochs + 1):\n",
    "    model.train()\n",
    "    total_train = 0.0\n",
    "    for imgs, sigs, angs in train_loader:\n",
    "        imgs, sigs, angs = imgs.to(device), sigs.to(device), angs.to(device)\n",
    "        optimizer.zero_grad()\n",
    "        preds = model(imgs, sigs)\n",
    "        # loss  = criterion(preds, angs, sigs)\n",
    "        loss = criterion(preds, angs)\n",
    "        loss.backward()\n",
    "        optimizer.step()\n",
    "        total_train += loss.item()\n",
    "    avg_train = total_train / len(train_loader)\n",
    "\n",
    "    model.eval()\n",
    "    total_val = 0.0\n",
    "    with torch.no_grad():\n",
    "        for imgs, sigs, angs in val_loader:\n",
    "            imgs, sigs, angs = imgs.to(device), sigs.to(device), angs.to(device)\n",
    "            # total_val += criterion(model(imgs, sigs), angs, sigs).item()\n",
    "            total_val += criterion(preds, angs).item()\n",
    "    avg_val = total_val / len(val_loader)\n",
    "\n",
    "    print(f\"[Epoch {epoch}] Train: {avg_train:.4f}  Val: {avg_val:.4f}\")\n"
   ]
  },
  {
   "cell_type": "code",
   "execution_count": 80,
   "id": "be86cd00",
   "metadata": {},
   "outputs": [
    {
     "name": "stdout",
     "output_type": "stream",
     "text": [
      "Saved fine-tuned weights to ../models/RDModel_finetuned.pth\n"
     ]
    }
   ],
   "source": [
    "torch.save(\n",
    "    model.state_dict(),\n",
    "    \"../models/RDModel_finetuned.pth\"\n",
    ")\n",
    "print(\"Saved fine-tuned weights to ../models/RDModel_finetuned.pth\")"
   ]
  }
 ],
 "metadata": {
  "kernelspec": {
   "display_name": "ACS",
   "language": "python",
   "name": "python3"
  },
  "language_info": {
   "codemirror_mode": {
    "name": "ipython",
    "version": 3
   },
   "file_extension": ".py",
   "mimetype": "text/x-python",
   "name": "python",
   "nbconvert_exporter": "python",
   "pygments_lexer": "ipython3",
   "version": "3.10.18"
  }
 },
 "nbformat": 4,
 "nbformat_minor": 5
}
